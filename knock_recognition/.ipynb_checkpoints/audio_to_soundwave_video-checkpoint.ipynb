{
 "cells": [
  {
   "cell_type": "code",
   "execution_count": 1,
   "id": "6d208e31-31e2-4ede-8b44-98d8570cca17",
   "metadata": {},
   "outputs": [],
   "source": [
    "import os\n",
    "import soundfile as sf\n",
    "import numpy as np\n",
    "import matplotlib.pyplot as plt\n",
    "from pydub import AudioSegment\n",
    "from pydub.playback import play\n",
    "import time\n",
    "from multiprocessing import Process\n",
    "\n",
    "# For video writer.\n",
    "import cv2\n",
    "\n",
    "# For progress bar.\n",
    "import tqdm\n",
    "\n",
    "# For wav file. \n",
    "import io\n",
    "import scipy.io.wavfile"
   ]
  },
  {
   "cell_type": "code",
   "execution_count": 2,
   "id": "4ff181c6-3449-4cd4-9aec-ed926f0ede77",
   "metadata": {},
   "outputs": [
    {
     "name": "stdout",
     "output_type": "stream",
     "text": [
      "Sample rate:  48000\n",
      "Total samples:  5366784\n",
      "Duration: 111.808 sec\n"
     ]
    }
   ],
   "source": [
    "# Load audio.\n",
    "input_audio = \"./data/raw/demo_audio.mp3\"\n",
    "sound = AudioSegment.from_mp3(input_audio)\n",
    "sound = sound.set_channels(1)\n",
    "sample_rate = sound.frame_rate\n",
    "audio_samples = sound.get_array_of_samples()\n",
    "audio_data_mono = np.array(audio_samples).T.astype(np.float32)\n",
    "audio_data_mono /= np.iinfo(audio_samples.typecode).max\n",
    "\n",
    "# Print info.\n",
    "total_samples = len(audio_data_mono)\n",
    "total_sec = total_samples / sample_rate\n",
    "print(\"Sample rate: \", sample_rate)\n",
    "print(\"Total samples: \", total_samples)\n",
    "print(\"Duration: {} sec\".format(total_sec))"
   ]
  },
  {
   "cell_type": "code",
   "execution_count": 3,
   "id": "61dd3f01-03e6-47f2-92b6-2799bfb4032a",
   "metadata": {},
   "outputs": [
    {
     "data": {
      "text/plain": [
       "[<matplotlib.lines.Line2D at 0x1d9a4fdb2b0>]"
      ]
     },
     "execution_count": 3,
     "metadata": {},
     "output_type": "execute_result"
    },
    {
     "data": {
      "image/png": "[encoded data removed]",
      "text/plain": [
       "<Figure size 1440x288 with 1 Axes>"
      ]
     },
     "metadata": {
      "needs_background": "light"
     },
     "output_type": "display_data"
    }
   ],
   "source": [
    "# Show overall. \n",
    "fig, ax = plt.subplots(figsize=[20, 4])\n",
    "ax.plot(audio_data_mono)"
   ]
  },
  {
   "cell_type": "code",
   "execution_count": 4,
   "id": "d794e608-548b-415d-8754-a69f5cf49d50",
   "metadata": {},
   "outputs": [
    {
     "data": {
      "text/plain": [
       "[<matplotlib.lines.Line2D at 0x1d9a0e9fc40>]"
      ]
     },
     "execution_count": 4,
     "metadata": {},
     "output_type": "execute_result"
    },
    {
     "data": {
      "image/png": "[encoded data removed]",
      "text/plain": [
       "<Figure size 720x288 with 1 Axes>"
      ]
     },
     "metadata": {},
     "output_type": "display_data"
    }
   ],
   "source": [
    "# Figure settings.\n",
    "line_color = \"white\"\n",
    "background_color = \"black\"\n",
    "bar_width = 0.1\n",
    "\n",
    "# Setting up figure.\n",
    "fig, ax = plt.subplots(figsize=(10, 4))\n",
    "ax.set_ylim([-0.5, 0.5])\n",
    "\n",
    "# Frame off.\n",
    "fig.patch.set_visible(False)\n",
    "ax.set_xticks([])\n",
    "ax.set_yticks([])\n",
    "for spine in ax.spines:\n",
    "    ax.spines[spine].set_visible(False)\n",
    "\n",
    "# Set background color.\n",
    "ax.patch.set_facecolor(background_color)\n",
    "\n",
    "# Sample data. \n",
    "audio_sample = audio_data_mono[0:sample_rate]\n",
    "ax.plot(audio_sample, color=line_color)"
   ]
  },
  {
   "cell_type": "code",
   "execution_count": 5,
   "id": "c485ac96-c41f-4fab-a5b7-57063c0ede18",
   "metadata": {},
   "outputs": [
    {
     "name": "stdout",
     "output_type": "stream",
     "text": [
      "Output: ./data/raw/demo_audio_export.mp4\n"
     ]
    },
    {
     "name": "stderr",
     "output_type": "stream",
     "text": [
      "835it [00:45, 18.40it/s]                                                                                               \n"
     ]
    }
   ],
   "source": [
    "# Conver to images. \n",
    "\n",
    "# Sampling settings.\n",
    "idx_start_sec = 75.0\n",
    "idx_end_sec = 105.0\n",
    "window_size_sec = 5.0\n",
    "stride_size_sec = 0.03\n",
    "\n",
    "# Create video file.\n",
    "fourcc = cv2.VideoWriter_fourcc(*'H264')\n",
    "output_filename = os.path.splitext(input_audio)[0] + \"_export.mp4\"\n",
    "output_video = cv2.VideoWriter(output_filename, fourcc, 1/stride_size_sec, (1920, 1080))\n",
    "print(\"Output: {}\".format(output_filename))\n",
    "\n",
    "# Variables.\n",
    "idx_sample_start = int(idx_start_sec * sample_rate)\n",
    "idx_sample_end = int(idx_end_sec * sample_rate)\n",
    "idx_start = idx_sample_start\n",
    "idx_end = int(idx_start + sample_rate * window_size_sec)\n",
    "\n",
    "# Init figure.\n",
    "fig, ax = plt.subplots(figsize=(10, 5), dpi=300)\n",
    "ax.set_ylim([-0.5, 0.5])\n",
    "\n",
    "# Frame off.\n",
    "fig.patch.set_visible(False)\n",
    "ax.set_xticks([])\n",
    "ax.set_yticks([])\n",
    "for spine in ax.spines:\n",
    "    ax.spines[spine].set_visible(False)\n",
    "\n",
    "# Set background color.\n",
    "ax.patch.set_facecolor(background_color)\n",
    "\n",
    "# Progress bar.\n",
    "total_frames = int((idx_end_sec - idx_start_sec - window_size_sec) / stride_size_sec + 1)\n",
    "pbar = tqdm.tqdm(total=total_frames)\n",
    "pbar.update(1)\n",
    "# print(\"Total frames: {}\".format(total_frames))\n",
    "\n",
    "# Sliding and ploting the audio sample. \n",
    "while idx_end < idx_sample_end:\n",
    "    \n",
    "    # Slicing data. \n",
    "    audio_sample_slice = audio_data_mono[idx_start:idx_end]\n",
    "    \n",
    "    # Plotting data.\n",
    "    ax.plot(audio_sample_slice, color=line_color)\n",
    "    \n",
    "    # Convert matrix.\n",
    "    fig.canvas.draw()\n",
    "    frame = np.array(fig.canvas.renderer._renderer)\n",
    "    \n",
    "    # Writing frame.\n",
    "    frame_bgr = cv2.cvtColor(frame, cv2.COLOR_RGBA2BGR)\n",
    "    frame_bgr = cv2.resize(frame_bgr, (1920, 1080))\n",
    "    output_video.write(frame_bgr)\n",
    "    \n",
    "    # Sliding. \n",
    "    ax.lines.pop(0)\n",
    "    idx_start += int(stride_size_sec * sample_rate)\n",
    "    idx_end = int(idx_start + window_size_sec * sample_rate)\n",
    "    pbar.update(1)\n",
    "\n",
    "# Release resources.\n",
    "pbar.close()\n",
    "plt.close()\n",
    "output_video.release()"
   ]
  },
  {
   "cell_type": "code",
   "execution_count": 6,
   "id": "c8f216c1-b1d0-4025-885f-ec553bdd7542",
   "metadata": {},
   "outputs": [
    {
     "data": {
      "text/plain": [
       "<_io.BufferedRandom name='./data/raw/demo_audio_export.mp3'>"
      ]
     },
     "execution_count": 6,
     "metadata": {},
     "output_type": "execute_result"
    }
   ],
   "source": [
    "# Also export the audio.\n",
    "wav_io = io.BytesIO()\n",
    "scipy.io.wavfile.write(wav_io, sample_rate, audio_data_mono[idx_sample_start:idx_sample_end])\n",
    "wav_io.seek(0)\n",
    "audio_segment = AudioSegment.from_wav(wav_io)\n",
    "output_filename = os.path.splitext(input_audio)[0] + \"_export.mp3\"\n",
    "audio_segment.export(output_filename,\n",
    "                     format=\"mp3\",\n",
    "                     bitrate=\"192k\"\n",
    "                    )"
   ]
  },
  {
   "cell_type": "code",
   "execution_count": null,
   "id": "79459f70-87c4-4be2-acde-dcfebb851dc5",
   "metadata": {},
   "outputs": [],
   "source": []
  }
 ],
 "metadata": {
  "kernelspec": {
   "display_name": "Python 3 (ipykernel)",
   "language": "python",
   "name": "python3"
  },
  "language_info": {
   "codemirror_mode": {
    "name": "ipython",
    "version": 3
   },
   "file_extension": ".py",
   "mimetype": "text/x-python",
   "name": "python",
   "nbconvert_exporter": "python",
   "pygments_lexer": "ipython3",
   "version": "3.9.7"
  }
 },
 "nbformat": 4,
 "nbformat_minor": 5
}
